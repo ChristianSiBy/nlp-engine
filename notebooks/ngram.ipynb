{
 "cells": [
  {
   "cell_type": "markdown",
   "metadata": {},
   "source": [
    "## Testing the ngram model"
   ]
  },
  {
   "cell_type": "markdown",
   "metadata": {},
   "source": [
    "**We support:**\n",
    "- n_grams of different length\n",
    "- word vectors are weighted with tf-idf\n",
    "\n",
    "**We need:**\n",
    "- To be sure of the columns classes we want (Atm: `FIRTNAME, NAME, ADDRESS, CITY, DATE, CODE, ID, STRING`)\n",
    "- A way to reduce the number of feature (maybe total number of occurence per feature)\n",
    "- Scale to a column-like vision to enhance the distinction between STRING/FIRSTNAME/NAME/CODE to use redundancy\n",
    "- In this vision, use the column name to confirm or enhance classification.\n"
   ]
  },
  {
   "cell_type": "code",
   "execution_count": 1,
   "metadata": {},
   "outputs": [],
   "source": [
    "import ngram"
   ]
  },
  {
   "cell_type": "code",
   "execution_count": 23,
   "metadata": {},
   "outputs": [
    {
     "name": "stdout",
     "output_type": "stream",
     "text": [
      "(1000, 2453)\n",
      "(200, 2453)\n",
      "STRING              \t16/17\t   94.12% \t(FP:0)\n",
      "NAME                \t23/25\t   92.0% \t(FP:35)\n",
      "ID                  \t34/34\t   100.0% \t(FP:0)\n",
      "ADDRESS             \t24/24\t   100.0% \t(FP:0)\n",
      "CITY                \t23/30\t   76.67% \t(FP:3)\n",
      "CODE                \t12/25\t   48.0% \t(FP:0)\n",
      "DATE                \t24/24\t   100.0% \t(FP:0)\n",
      "FIRSTNAME           \t6/21\t   28.57% \t(FP:0)\n",
      "SCORE 162/200 :   81.0%\n"
     ]
    }
   ],
   "source": [
    "clf = ngram.NGramClassifier()\n",
    "X_train, y_train, X_test, y_test = clf.preprocess('data/columns')\n",
    "clf.fit(X_train, y_train, ngram_range=(2, 3))\n",
    "y_pred = clf.predict(X_test)\n",
    "clf.score(y_pred, y_test)"
   ]
  },
  {
   "cell_type": "code",
   "execution_count": null,
   "metadata": {},
   "outputs": [],
   "source": []
  }
 ],
 "metadata": {
  "kernelspec": {
   "display_name": "Python 3",
   "language": "python",
   "name": "python3"
  },
  "language_info": {
   "codemirror_mode": {
    "name": "ipython",
    "version": 3
   },
   "file_extension": ".py",
   "mimetype": "text/x-python",
   "name": "python",
   "nbconvert_exporter": "python",
   "pygments_lexer": "ipython3",
   "version": "3.6.4"
  }
 },
 "nbformat": 4,
 "nbformat_minor": 2
}
