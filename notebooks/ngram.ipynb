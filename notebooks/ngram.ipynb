{
 "cells": [
  {
   "cell_type": "markdown",
   "metadata": {},
   "source": [
    "## Testing the ngram model"
   ]
  },
  {
   "cell_type": "markdown",
   "metadata": {},
   "source": [
    "There is for the moment only 3-grams (next: 2, 3, 4) and the selection of n-grams is done only by frequency (next: tfidf). Results are quite poor for STRING/FIRSTNAME/NAME/CODE comparisons (idea: firstname and codes are redundant: can you use this redundancy?)."
   ]
  },
  {
   "cell_type": "code",
   "execution_count": 4,
   "metadata": {},
   "outputs": [],
   "source": [
    "import ngram"
   ]
  },
  {
   "cell_type": "code",
   "execution_count": 5,
   "metadata": {},
   "outputs": [],
   "source": [
    "clf = ngram.NGramClassifier()"
   ]
  },
  {
   "cell_type": "code",
   "execution_count": 6,
   "metadata": {},
   "outputs": [
    {
     "name": "stdout",
     "output_type": "stream",
     "text": [
      "ngrams kept: 1006 / 4535\n",
      "CODE                \t7/29\t   24.14% \t(FP:1)\n",
      "ADDRESS             \t23/25\t   92.0% \t(FP:0)\n",
      "ID                  \t26/26\t   100.0% \t(FP:3)\n",
      "CITY                \t27/30\t   90.0% \t(FP:1)\n",
      "FIRSTNAME           \t0/21\t   0.0% \t(FP:0)\n",
      "STRING              \t11/20\t   55.0% \t(FP:0)\n",
      "DATE                \t22/22\t   100.0% \t(FP:0)\n",
      "NAME                \t26/27\t   96.3% \t(FP:53)\n",
      "SCORE 142/200 :   71.0%\n"
     ]
    }
   ],
   "source": [
    "X_train, y_train, X_test, y_test = clf.preprocess('data/columns')\n",
    "clf.fit(X_train, y_train)\n",
    "y_pred = clf.predict(X_test)\n",
    "clf.score(y_pred, y_test)"
   ]
  },
  {
   "cell_type": "code",
   "execution_count": null,
   "metadata": {},
   "outputs": [],
   "source": []
  }
 ],
 "metadata": {
  "kernelspec": {
   "display_name": "Python 3",
   "language": "python",
   "name": "python3"
  },
  "language_info": {
   "codemirror_mode": {
    "name": "ipython",
    "version": 3
   },
   "file_extension": ".py",
   "mimetype": "text/x-python",
   "name": "python",
   "nbconvert_exporter": "python",
   "pygments_lexer": "ipython3",
   "version": "3.6.4"
  }
 },
 "nbformat": 4,
 "nbformat_minor": 2
}
