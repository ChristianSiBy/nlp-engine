{
 "cells": [
  {
   "cell_type": "markdown",
   "metadata": {},
   "source": [
    "## Testing the ngram model"
   ]
  },
  {
   "cell_type": "markdown",
   "metadata": {},
   "source": [
    "**We support:**\n",
    "- n_grams of different length\n",
    "- word vectors are weighted with tf-idf\n",
    "\n",
    "**We need:**\n",
    "- To be sure of the columns classes we want (Atm: `FIRTNAME, NAME, ADDRESS, CITY, DATE, CODE, ID, STRING`)\n",
    "- A way to reduce the number of feature (maybe total number of occurence per feature)\n",
    "- Scale to a column-like vision to enhance the distinction between STRING/FIRSTNAME/NAME/CODE to use redundancy: use number of different items\n",
    "- Add more features: number of words, ending pattern (with voyelle), ratio voyelle/consonne\n",
    "- In this vision, use the column name to confirm or enhance classification.\n"
   ]
  },
  {
   "cell_type": "code",
   "execution_count": 1,
   "metadata": {},
   "outputs": [],
   "source": [
    "import loader\n",
    "import ngram\n",
    "import numpy as np"
   ]
  },
  {
   "cell_type": "code",
   "execution_count": 2,
   "metadata": {},
   "outputs": [],
   "source": [
    "source = [\n",
    "    ('firstname', 'firstnames.firstname', 3),\n",
    "    ('name', 'names.name', 3),\n",
    "    ('code', 'patients.gender', 3),\n",
    "    ('code', 'admissions.marital_status', 3),\n",
    "    ('code', 'admissions.religion', 3),\n",
    "    ('code', 'admissions.insurance', 3),\n",
    "    ('code', 'admissions.admission_location', 3),\n",
    "    ('code', 'prescriptions.drug_type', 3),\n",
    "    ('date', 'prescriptions.startdate', 3),\n",
    "    ('date', 'admissions.admittime', 3),\n",
    "    ('id', 'admissions.hadm_id', 3),\n",
    "    ('id', 'admissions.subject_id', 3),\n",
    "    ('address', 'addresses.road', 3),\n",
    "    ('city', 'addresses.city', 3)\n",
    "]"
   ]
  },
  {
   "cell_type": "code",
   "execution_count": 3,
   "metadata": {},
   "outputs": [],
   "source": [
    "dataset = []\n",
    "labels = {}\n",
    "for column in source:\n",
    "    dataset.append(column[1:])\n",
    "    labels[column[1]] = column[0].upper()"
   ]
  },
  {
   "cell_type": "code",
   "execution_count": 4,
   "metadata": {},
   "outputs": [],
   "source": [
    "columns = loader.fetch_columns(dataset, limit=10000)"
   ]
  },
  {
   "cell_type": "code",
   "execution_count": 5,
   "metadata": {},
   "outputs": [],
   "source": [
    "clf = ngram.NGramClassifier()\n",
    "X_train, y_train, X_test, y_test = clf.preprocess(columns, labels)"
   ]
  },
  {
   "cell_type": "code",
   "execution_count": 6,
   "metadata": {},
   "outputs": [],
   "source": [
    "# X_train, y_train, X_test, y_test"
   ]
  },
  {
   "cell_type": "code",
   "execution_count": 7,
   "metadata": {},
   "outputs": [
    {
     "name": "stdout",
     "output_type": "stream",
     "text": [
      "CITY                \t25/28\t   89.29% \t(FP:0)\n",
      "DATE                \t30/30\t   100.0% \t(FP:0)\n",
      "ID                  \t35/35\t   100.0% \t(FP:0)\n",
      "CODE                \t18/25\t   72.0% \t(FP:3)\n",
      "NAME                \t20/26\t   76.92% \t(FP:20)\n",
      "FIRSTNAME           \t10/24\t   41.67% \t(FP:6)\n",
      "ADDRESS             \t32/32\t   100.0% \t(FP:1)\n",
      "SCORE 170/200 :   85.0%\n"
     ]
    }
   ],
   "source": [
    "clf.fit(X_train, y_train, ngram_range=(2, 3))\n",
    "y_pred = clf.predict(X_test)\n",
    "clf.score(y_pred, y_test)"
   ]
  },
  {
   "cell_type": "code",
   "execution_count": null,
   "metadata": {},
   "outputs": [],
   "source": []
  },
  {
   "cell_type": "code",
   "execution_count": null,
   "metadata": {},
   "outputs": [],
   "source": []
  }
 ],
 "metadata": {
  "kernelspec": {
   "display_name": "Python 3",
   "language": "python",
   "name": "python3"
  },
  "language_info": {
   "codemirror_mode": {
    "name": "ipython",
    "version": 3
   },
   "file_extension": ".py",
   "mimetype": "text/x-python",
   "name": "python",
   "nbconvert_exporter": "python",
   "pygments_lexer": "ipython3",
   "version": "3.6.4"
  }
 },
 "nbformat": 4,
 "nbformat_minor": 2
}
