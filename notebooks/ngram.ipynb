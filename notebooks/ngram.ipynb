{
 "cells": [
  {
   "cell_type": "markdown",
   "metadata": {},
   "source": [
    "## Testing the ngram model"
   ]
  },
  {
   "cell_type": "markdown",
   "metadata": {},
   "source": [
    "**We support:**\n",
    "- n_grams of different length\n",
    "- word vectors are weighted with tf-idf\n",
    "\n",
    "**We need:**\n",
    "- To be sure of the columns classes we want (Atm: `FIRTNAME, NAME, ADDRESS, CITY, DATE, CODE, ID, STRING`)\n",
    "- A way to reduce the number of feature (maybe total number of occurence per feature)\n",
    "- Scale to a column-like vision to enhance the distinction between STRING/FIRSTNAME/NAME/CODE to use redundancy: use number of different items\n",
    "- Add more features: number of words, ending pattern (with voyelle), ratio voyelle/consonne\n",
    "- In this vision, use the column name to confirm or enhance classification.\n"
   ]
  },
  {
   "cell_type": "code",
   "execution_count": 1,
   "metadata": {},
   "outputs": [],
   "source": [
    "import loader\n",
    "import ngram\n",
    "from ipywidgets import FloatProgress"
   ]
  },
  {
   "cell_type": "code",
   "execution_count": 2,
   "metadata": {},
   "outputs": [],
   "source": [
    "source = [\n",
    "    ('firstname', 'firstnames.firstname', 100),\n",
    "    \n",
    "    ('name', 'names.name', 100),\n",
    "    \n",
    "    ('code', 'patients.gender', 10),\n",
    "    ('code', 'admissions.marital_status', 10),\n",
    "    ('code', 'admissions.religion', 10),\n",
    "    ('code', 'admissions.insurance', 10),\n",
    "    ('code', 'admissions.admission_location', 10),\n",
    "    ('code', 'prescriptions.drug_type', 30),\n",
    "    ('code', 'prescriptions.dose_unit_rx', 20),\n",
    "    \n",
    "    ('date', 'prescriptions.startdate', 90),\n",
    "    ('date', 'admissions.admittime', 10),\n",
    "    \n",
    "    ('id', 'admissions.hadm_id', 10),\n",
    "    ('id', 'admissions.subject_id', 10),\n",
    "    ('id', 'prescriptions.subject_id', 80),\n",
    "    \n",
    "    ('address', 'addresses.road', 100),\n",
    "    \n",
    "    ('city', 'addresses.city', 100)\n",
    "]"
   ]
  },
  {
   "cell_type": "code",
   "execution_count": 3,
   "metadata": {},
   "outputs": [],
   "source": [
    "dataset = []\n",
    "labels = []\n",
    "for column in source:\n",
    "    if len(column) >= 3:\n",
    "        label, column_name, nb_datasets = column\n",
    "    else:\n",
    "        label, column_name, nb_datasets = column, 1\n",
    "    dataset.append((column_name, nb_datasets))\n",
    "    labels += [label.upper()] * nb_datasets"
   ]
  },
  {
   "cell_type": "code",
   "execution_count": 4,
   "metadata": {},
   "outputs": [
    {
     "data": {
      "application/vnd.jupyter.widget-view+json": {
       "model_id": "56279ecd91ea4219a1b8208bb55c899a",
       "version_major": 2,
       "version_minor": 0
      },
      "text/html": [
       "<p>Failed to display Jupyter Widget of type <code>FloatProgress</code>.</p>\n",
       "<p>\n",
       "  If you're reading this message in the Jupyter Notebook or JupyterLab Notebook, it may mean\n",
       "  that the widgets JavaScript is still loading. If this message persists, it\n",
       "  likely means that the widgets JavaScript library is either not installed or\n",
       "  not enabled. See the <a href=\"https://ipywidgets.readthedocs.io/en/stable/user_install.html\">Jupyter\n",
       "  Widgets Documentation</a> for setup instructions.\n",
       "</p>\n",
       "<p>\n",
       "  If you're reading this message in another frontend (for example, a static\n",
       "  rendering on GitHub or <a href=\"https://nbviewer.jupyter.org/\">NBViewer</a>),\n",
       "  it may mean that your frontend doesn't currently support widgets.\n",
       "</p>\n"
      ],
      "text/plain": [
       "FloatProgress(value=0.0, max=700.0)"
      ]
     },
     "metadata": {},
     "output_type": "display_data"
    },
    {
     "name": "stdout",
     "output_type": "stream",
     "text": [
      "CPU times: user 1.53 s, sys: 218 ms, total: 1.75 s\n",
      "Wall time: 4.73 s\n"
     ]
    }
   ],
   "source": [
    "%%time\n",
    "\n",
    "max_value = len(labels)\n",
    "bar = FloatProgress(min=0, max=max_value)\n",
    "display(bar)\n",
    "\n",
    "columns = loader.fetch_columns(dataset, limit=100, load_bar=bar)"
   ]
  },
  {
   "cell_type": "code",
   "execution_count": 7,
   "metadata": {},
   "outputs": [],
   "source": [
    "clf = ngram.NGramClassifier()\n",
    "X_train, y_train, X_test, y_test = clf.preprocess(columns, labels)"
   ]
  },
  {
   "cell_type": "code",
   "execution_count": 8,
   "metadata": {},
   "outputs": [
    {
     "name": "stdout",
     "output_type": "stream",
     "text": [
      "FIRSTNAME           \t22/22\t   100.0% \t(FP:0)\n",
      "NAME                \t24/24\t   100.0% \t(FP:0)\n",
      "CODE                \t15/15\t   100.0% \t(FP:0)\n",
      "DATE                \t11/11\t   100.0% \t(FP:0)\n",
      "ID                  \t17/17\t   100.0% \t(FP:0)\n",
      "ADDRESS             \t20/20\t   100.0% \t(FP:0)\n",
      "CITY                \t31/31\t   100.0% \t(FP:0)\n",
      "SCORE 140/140 :   100.0%\n",
      "CPU times: user 9.15 s, sys: 3.87 s, total: 13 s\n",
      "Wall time: 13.9 s\n"
     ]
    }
   ],
   "source": [
    "%%time\n",
    "\n",
    "clf.fit(X_train, y_train, ngram_range=(2, 3))\n",
    "y_pred = clf.predict(X_test)\n",
    "clf.score(y_pred, y_test)"
   ]
  },
  {
   "cell_type": "code",
   "execution_count": null,
   "metadata": {},
   "outputs": [],
   "source": []
  },
  {
   "cell_type": "code",
   "execution_count": null,
   "metadata": {},
   "outputs": [],
   "source": []
  }
 ],
 "metadata": {
  "kernelspec": {
   "display_name": "Python 3",
   "language": "python",
   "name": "python3"
  },
  "language_info": {
   "codemirror_mode": {
    "name": "ipython",
    "version": 3
   },
   "file_extension": ".py",
   "mimetype": "text/x-python",
   "name": "python",
   "nbconvert_exporter": "python",
   "pygments_lexer": "ipython3",
   "version": "3.6.4"
  }
 },
 "nbformat": 4,
 "nbformat_minor": 2
}
